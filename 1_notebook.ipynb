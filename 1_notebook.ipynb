{
  "nbformat": 4,
  "nbformat_minor": 0,
  "metadata": {
    "colab": {
      "provenance": []
    },
    "kernelspec": {
      "name": "python3",
      "display_name": "Python 3"
    },
    "language_info": {
      "name": "python"
    }
  },
  "cells": [
    {
      "cell_type": "markdown",
      "source": [
        "# Data Science Tools and Ecosystem"
      ],
      "metadata": {
        "id": "taC1-xzchENc"
      }
    },
    {
      "cell_type": "markdown",
      "source": [
        "# My name is Benjamin Tan and I love self-driving cars.\n"
      ],
      "metadata": {
        "id": "uRzaYykqjemf"
      }
    },
    {
      "cell_type": "markdown",
      "source": [
        "# Some of the popular languages that Data Scientists use are:\n",
        "\n",
        "\n",
        "1. **Python**\n",
        "2. **R**\n",
        "3. **SQL**\n",
        "4. **Tableau**\n",
        "5. **Apache Spark**\n",
        "\n",
        "\n",
        "\n",
        "\n",
        "\n"
      ],
      "metadata": {
        "id": "nKxPet5-jhEf"
      }
    },
    {
      "cell_type": "markdown",
      "source": [
        "# Some of the commonly used libraries used by Data Scientists are:\n",
        "\n",
        "1. **Pandas**\n",
        "2. **NumPy**\n",
        "3. **SciPy**\n",
        "4. **Scikit-learn**\n",
        "5. **Matplotlib**\n",
        "6. **Seaborn**\n",
        "\n",
        "\n"
      ],
      "metadata": {
        "id": "akHiNIK7jyYI"
      }
    },
    {
      "cell_type": "markdown",
      "source": [
        "# Data Science Tools\n",
        "\n",
        "| Data Science Tools|\n",
        "|-----------------|\n",
        "| Jupyter Notebook|\n",
        "| RStudio         |\n",
        "| Google Colab    |\n",
        "| Anaconda        |\n",
        "| GitHub          |\n",
        "| TensorFlow      |\n",
        "\n",
        "\n",
        "\n"
      ],
      "metadata": {
        "id": "epA9EG7qjXBR"
      }
    },
    {
      "cell_type": "code",
      "source": [
        "#This is a simple arithmetic expression to multiply then add integers\n",
        "\n",
        "(3*4)+5"
      ],
      "metadata": {
        "id": "Gz9UJbgbl-SE",
        "colab": {
          "base_uri": "https://localhost:8080/"
        },
        "outputId": "010bbc3c-7277-41fa-c618-9e184fc7e25e"
      },
      "execution_count": 6,
      "outputs": [
        {
          "output_type": "execute_result",
          "data": {
            "text/plain": [
              "17"
            ]
          },
          "metadata": {},
          "execution_count": 6
        }
      ]
    },
    {
      "cell_type": "code",
      "source": [
        "# This will convert 200 minutes to hours by diving by 60\n",
        "200//60"
      ],
      "metadata": {
        "colab": {
          "base_uri": "https://localhost:8080/"
        },
        "id": "xHzokVs2m9bR",
        "outputId": "8f80789c-f7e1-45da-e7e8-769733cc415b"
      },
      "execution_count": 7,
      "outputs": [
        {
          "output_type": "execute_result",
          "data": {
            "text/plain": [
              "3"
            ]
          },
          "metadata": {},
          "execution_count": 7
        }
      ]
    },
    {
      "cell_type": "markdown",
      "source": [
        "# Objectives\n",
        "\n",
        "- Understand the basics of Data Science tools\n",
        "- Learn how to use different programming languages for Data Science\n",
        "- Explore various libraries and APIs used in Data Science\n",
        "- Get familiar with Jupyter Notebooks and JupyterLab\n",
        "- Learn how to use RStudio and GitHub for version control\n",
        "- Perform arithmetic operations and data conversions in Python\n"
      ],
      "metadata": {
        "id": "CstxEVU3nmCM"
      }
    },
    {
      "cell_type": "markdown",
      "source": [
        "## **Author**\n",
        "Benjamin Tan\n",
        "\n"
      ],
      "metadata": {
        "id": "Ene5se72noOB"
      }
    }
  ]
}