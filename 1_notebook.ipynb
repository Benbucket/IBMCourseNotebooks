{
  "nbformat": 4,
  "nbformat_minor": 0,
  "metadata": {
    "colab": {
      "provenance": []
    },
    "kernelspec": {
      "name": "python3",
      "display_name": "Python 3"
    },
    "language_info": {
      "name": "python"
    }
  },
  "cells": [
    {
      "cell_type": "markdown",
      "source": [
        "# 1-notebook"
      ],
      "metadata": {
        "id": "taC1-xzchENc"
      }
    },
    {
      "cell_type": "markdown",
      "source": [
        "# My name is Benjamin Tan and I love self-driving cars.\n"
      ],
      "metadata": {
        "id": "uRzaYykqjemf"
      }
    },
    {
      "cell_type": "markdown",
      "source": [
        "# Data Science Languages:\n",
        "\n",
        "\n",
        "- **Python**:\n",
        "- **R**\n",
        "- **SQL**\n",
        "- **Tableau**\n",
        "- **Apache Spark**\n",
        "\n",
        "\n",
        "\n",
        "\n"
      ],
      "metadata": {
        "id": "nKxPet5-jhEf"
      }
    },
    {
      "cell_type": "markdown",
      "source": [
        "# Data Science Libraries\n",
        "\n",
        "- **Pandas**\n",
        "- **NumPy**\n",
        "- **SciPy**\n",
        "- **Scikit-learn**\n",
        "- **Matplotlib**\n",
        "- **Seaborn**\n",
        "\n"
      ],
      "metadata": {
        "id": "akHiNIK7jyYI"
      }
    },
    {
      "cell_type": "markdown",
      "source": [
        "# Data Science Tools\n",
        "\n",
        "- Jupyter Notebook\n",
        "- RStudio\n",
        "- Google Colab\n",
        "- Anaconda\n",
        "- GitHub\n",
        "- TensorFlow\n",
        "\n",
        "\n"
      ],
      "metadata": {
        "id": "epA9EG7qjXBR"
      }
    },
    {
      "cell_type": "markdown",
      "source": [
        "# Arithmetic Expression Examples\n",
        "\n",
        "\n",
        "\n",
        "# Addition\n",
        "result_add = 5 + 3 = 8\n",
        "\n",
        "# Subtraction\n",
        "result_sub = 10 - 4 = 6\n",
        "\n",
        "# Multiplication\n",
        "result_mul = 7 * 6 = 42\n",
        "\n",
        "# Division\n",
        "result_div = 20 / 4 = 5.0\n",
        "\n",
        "# Exponentiation\n",
        "result_exp = 2 ** 3 = 8\n",
        "\n",
        "# Modulus\n",
        "result_mod = 10 % 3 = 1\n"
      ],
      "metadata": {
        "id": "Gz9UJbgbl-SE"
      }
    },
    {
      "cell_type": "code",
      "source": [
        "# Simple multiplication and addition\n",
        "\n",
        "# Define numbers\n",
        "a = 5\n",
        "b = 3\n",
        "\n",
        "# Perform multiplication\n",
        "multiplication_result = a * b\n",
        "print(\"Multiplication:\", multiplication_result)\n",
        "\n",
        "# Perform addition\n",
        "addition_result = a + b\n",
        "print(\"Addition:\", addition_result)\n"
      ],
      "metadata": {
        "colab": {
          "base_uri": "https://localhost:8080/"
        },
        "id": "xHzokVs2m9bR",
        "outputId": "1c27fc0e-21fb-419c-ae50-8b9c32ad19fb"
      },
      "execution_count": 3,
      "outputs": [
        {
          "output_type": "stream",
          "name": "stdout",
          "text": [
            "Multiplication: 15\n",
            "Addition: 8\n"
          ]
        }
      ]
    },
    {
      "cell_type": "code",
      "source": [
        "# Convert minutes to hours\n",
        "\n",
        "# Define minutes\n",
        "minutes = 150\n",
        "\n",
        "# Convert to hours\n",
        "hours = minutes / 60\n",
        "\n",
        "# Print result\n",
        "print(f\"{minutes} minutes is equal to {hours} hours.\")\n"
      ],
      "metadata": {
        "colab": {
          "base_uri": "https://localhost:8080/"
        },
        "id": "w7nwKsnWnW2j",
        "outputId": "fda5b054-a770-4435-a5f4-f7dfc5024f87"
      },
      "execution_count": 4,
      "outputs": [
        {
          "output_type": "stream",
          "name": "stdout",
          "text": [
            "150 minutes is equal to 2.5 hours.\n"
          ]
        }
      ]
    },
    {
      "cell_type": "markdown",
      "source": [
        "# Objectives\n",
        "\n",
        "- Understand the basics of Data Science tools\n",
        "- Learn how to use different programming languages for Data Science\n",
        "- Explore various libraries and APIs used in Data Science\n",
        "- Get familiar with Jupyter Notebooks and JupyterLab\n",
        "- Learn how to use RStudio and GitHub for version control\n",
        "- Perform arithmetic operations and data conversions in Python\n"
      ],
      "metadata": {
        "id": "CstxEVU3nmCM"
      }
    },
    {
      "cell_type": "markdown",
      "source": [
        "# Author's name: Benjamin Tan"
      ],
      "metadata": {
        "id": "Ene5se72noOB"
      }
    }
  ]
}